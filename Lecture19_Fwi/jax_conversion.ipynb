{
 "cells": [
  {
   "cell_type": "markdown",
   "id": "6a034063",
   "metadata": {},
   "source": [
    "load('RecordedData.mat', 'x', 'y', 'C', 'x_circ', 'y_circ', 'f', 'REC_DATA');"
   ]
  },
  {
   "cell_type": "code",
   "execution_count": 3,
   "id": "e0617ae5",
   "metadata": {},
   "outputs": [],
   "source": [
    "from scipy.io import loadmat\n",
    "import jax\n",
    "import jax.numpy as jnp\n",
    "\n",
    "\n",
    "data = loadmat('RecordedData1.mat')\n",
    "x = data['x'].squeeze()\n",
    "y = data['y'].squeeze()\n",
    "C = data['C']\n",
    "x_circ = data['x_circ'].squeeze()\n",
    "y_circ = data['y_circ'].squeeze()\n",
    "f = data['f'].item()\n",
    "REC_DATA = data['REC_DATA']\n"
   ]
  },
  {
   "cell_type": "code",
   "execution_count": 4,
   "id": "19309c7d",
   "metadata": {},
   "outputs": [],
   "source": [
    "dwnsmp = 1\n",
    "num_elements = x_circ.size\n",
    "tx_include = jnp.arange(0, num_elements, dwnsmp)\n",
    "REC_DATA = REC_DATA[tx_include, :]\n"
   ]
  },
  {
   "cell_type": "code",
   "execution_count": 5,
   "id": "14dafa06",
   "metadata": {},
   "outputs": [],
   "source": [
    "numElemLeftRightExcl = 31\n",
    "elemLeftRightExcl = jnp.arange(-numElemLeftRightExcl, numElemLeftRightExcl + 1)\n",
    "elemInclude = jnp.ones((num_elements, num_elements), dtype=bool)\n",
    "\n",
    "for tx_element in range(num_elements):\n",
    "    elemLeftRightExclCurrent = (elemLeftRightExcl + tx_element) % num_elements\n",
    "    elemInclude = elemInclude.at[tx_element, elemLeftRightExclCurrent].set(False)\n"
   ]
  },
  {
   "cell_type": "code",
   "execution_count": 6,
   "id": "65205ee6",
   "metadata": {},
   "outputs": [],
   "source": [
    "dxi = 0.8e-3\n",
    "xmax = 120e-3\n",
    "xi = jnp.arange(-xmax, xmax + dxi, dxi)\n",
    "yi = xi\n",
    "Xi, Yi = jnp.meshgrid(xi, yi, indexing='xy')\n"
   ]
  },
  {
   "cell_type": "code",
   "execution_count": null,
   "id": "b0cdf07a",
   "metadata": {},
   "outputs": [],
   "source": [
    "from scipy.spatial import cKDTree\n",
    "\n",
    "xi_tree = cKDTree(xi[:, None])\n",
    "x_idx = xi_tree.query(x_circ[:, None])[1]\n",
    "\n",
    "yi_tree = cKDTree(yi[:, None])\n",
    "y_idx = yi_tree.query(y_circ[:, None])[1]\n",
    "\n",
    "Nyi, Nxi = yi.size, xi.size\n",
    "ind = y_idx * Nxi + x_idx\n"
   ]
  }
 ],
 "metadata": {
  "kernelspec": {
   "display_name": "jax_env",
   "language": "python",
   "name": "python3"
  },
  "language_info": {
   "codemirror_mode": {
    "name": "ipython",
    "version": 3
   },
   "file_extension": ".py",
   "mimetype": "text/x-python",
   "name": "python",
   "nbconvert_exporter": "python",
   "pygments_lexer": "ipython3",
   "version": "3.12.0"
  }
 },
 "nbformat": 4,
 "nbformat_minor": 5
}

{
 "cells": [
  {
   "cell_type": "markdown",
   "id": "d0464298",
   "metadata": {},
   "source": [
    "# Final project - FWI \n",
    "## Team by:\n",
    "### Emilio Ochoa\n",
    "### Naomi Guevara\n",
    "### Liumei Ma"
   ]
  },
  {
   "cell_type": "markdown",
   "id": "717ce0fb",
   "metadata": {},
   "source": [
    "Hello! I am putting the MATLAB code in parallel with the python code. Feel free to optimize the best as you can to obtain the final .py file"
   ]
  },
  {
   "cell_type": "markdown",
   "id": "6a034063",
   "metadata": {},
   "source": [
    "``load('RecordedData.mat', 'x', 'y', 'C', 'x_circ', 'y_circ', 'f', 'REC_DATA');``"
   ]
  },
  {
   "cell_type": "code",
   "execution_count": 2,
   "id": "e0617ae5",
   "metadata": {},
   "outputs": [],
   "source": [
    "from scipy.io import loadmat\n",
    "import jax\n",
    "import jax.numpy as jnp\n",
    "from fwi_loss_function import fwi_loss_function\n",
    "from solve_helmholtz import solve_helmholtz\n",
    "\n",
    "\n",
    "data = loadmat('RecordedData1.mat')\n",
    "x = data['x'].squeeze()\n",
    "y = data['y'].squeeze()\n",
    "C = data['C']\n",
    "x_circ = data['x_circ'].squeeze()\n",
    "y_circ = data['y_circ'].squeeze()\n",
    "f = data['f'].item()\n",
    "REC_DATA = data['REC_DATA']\n"
   ]
  },
  {
   "cell_type": "markdown",
   "id": "c4b54fb8",
   "metadata": {},
   "source": [
    "``dwnsmp = 1;\n",
    "tx_include = 1:dwnsmp:numElements;\n",
    "REC_DATA = REC_DATA(tx_include,:);`` "
   ]
  },
  {
   "cell_type": "code",
   "execution_count": 3,
   "id": "19309c7d",
   "metadata": {},
   "outputs": [],
   "source": [
    "dwnsmp = 1\n",
    "num_elements = x_circ.size\n",
    "a0 = 10\n",
    "L_PML = 9.0e-3\n",
    "tx_include = jnp.arange(0, num_elements, dwnsmp)\n",
    "REC_DATA = REC_DATA[tx_include, :]\n"
   ]
  },
  {
   "cell_type": "markdown",
   "id": "d3b7f86e",
   "metadata": {},
   "source": [
    "``elemInclude = true(numElements, numElements);\n",
    "for tx_element = 1:numElements \n",
    "    elemLeftRightExclCurrent = elemLeftRightExcl + tx_element;\n",
    "    elemLeftRightExclCurrent(elemLeftRightExclCurrent<1) = numElements + ...\n",
    "         elemLeftRightExclCurrent(elemLeftRightExclCurrent<1);\n",
    "    elemLeftRightExclCurrent(elemLeftRightExclCurrent>numElements) = ...\n",
    "        elemLeftRightExclCurrent(elemLeftRightExclCurrent>numElements) - numElements;\n",
    "    elemInclude(tx_element,elemLeftRightExclCurrent) = false;\n",
    "end\n",
    "``"
   ]
  },
  {
   "cell_type": "code",
   "execution_count": 4,
   "id": "14dafa06",
   "metadata": {},
   "outputs": [],
   "source": [
    "numElemLeftRightExcl = 31\n",
    "elemLeftRightExcl = jnp.arange(-numElemLeftRightExcl, numElemLeftRightExcl + 1)\n",
    "elemInclude = jnp.ones((num_elements, num_elements), dtype=bool)\n",
    "\n",
    "for tx_element in range(num_elements):\n",
    "    elemLeftRightExclCurrent = (elemLeftRightExcl + tx_element) % num_elements\n",
    "    elemInclude = elemInclude.at[tx_element, elemLeftRightExclCurrent].set(False)\n"
   ]
  },
  {
   "cell_type": "markdown",
   "id": "9ce7360e",
   "metadata": {},
   "source": [
    "``dxi = 0.8e-3; xmax = 120e-3;\n",
    "xi = -xmax:dxi:xmax; yi = xi;\n",
    "[Xi, Yi] = meshgrid(xi, yi);\n",
    "``"
   ]
  },
  {
   "cell_type": "code",
   "execution_count": 5,
   "id": "65205ee6",
   "metadata": {},
   "outputs": [],
   "source": [
    "dxi = 0.8e-3\n",
    "xmax = 120e-3\n",
    "xi = jnp.arange(-xmax, xmax + dxi, dxi)\n",
    "yi = xi\n",
    "Xi, Yi = jnp.meshgrid(xi, yi, indexing='xy')\n"
   ]
  },
  {
   "cell_type": "markdown",
   "id": "41f464e8",
   "metadata": {},
   "source": [
    "``x_idx = dsearchn(xi(:), x_circ(:));\n",
    "y_idx = dsearchn(yi(:), y_circ(:));\n",
    "ind = sub2ind([Nyi, Nxi], y_idx, x_idx);\n",
    "``\n",
    "\n",
    "This part maybe can be optimized?"
   ]
  },
  {
   "cell_type": "code",
   "execution_count": 6,
   "id": "b0cdf07a",
   "metadata": {},
   "outputs": [],
   "source": [
    "from scipy.spatial import cKDTree\n",
    "\n",
    "xi_tree = cKDTree(xi[:, None])\n",
    "x_idx = xi_tree.query(x_circ[:, None])[1]\n",
    "\n",
    "yi_tree = cKDTree(yi[:, None])\n",
    "y_idx = yi_tree.query(y_circ[:, None])[1]\n",
    "\n",
    "Nyi, Nxi = yi.size, xi.size\n",
    "ind = y_idx * Nxi + x_idx\n"
   ]
  },
  {
   "cell_type": "code",
   "execution_count": 7,
   "id": "e99d64c1",
   "metadata": {},
   "outputs": [],
   "source": [
    "SRC = jnp.zeros((Nyi, Nxi, tx_include.size))\n",
    "for i, tx_elmt_idx in enumerate(tx_include):\n",
    "    x_idx_src = x_idx[tx_elmt_idx]\n",
    "    y_idx_src = y_idx[tx_elmt_idx]\n",
    "    SRC = SRC.at[y_idx_src, x_idx_src, i].set(1)\n"
   ]
  },
  {
   "cell_type": "code",
   "execution_count": 9,
   "id": "747fe619",
   "metadata": {},
   "outputs": [
    {
     "ename": "ValueError",
     "evalue": "Arguments to jax.numpy.meshgrid must be 1D, got shapes [(100,), (10, 1)]",
     "output_type": "error",
     "traceback": [
      "\u001b[31m---------------------------------------------------------------------------\u001b[39m",
      "\u001b[31mValueError\u001b[39m                                Traceback (most recent call last)",
      "\u001b[32m/var/folders/83/p8lj8nl13tz2lx0yzbt4wmp80000gn/T/ipykernel_18584/526871569.py\u001b[39m in \u001b[36m?\u001b[39m\u001b[34m()\u001b[39m\n\u001b[32m      8\u001b[39m objective = \u001b[38;5;28;01mlambda\u001b[39;00m slow: fwi_loss_function(slow, xi, yi, SRC, f, a0, L_PML, REC_DATA, ind, elemInclude, tx_include, num_elements)\n\u001b[32m      9\u001b[39m \n\u001b[32m     10\u001b[39m \u001b[38;5;66;03m# Initialize and run LBFGS solver\u001b[39;00m\n\u001b[32m     11\u001b[39m solver = LBFGS(fun=objective, maxiter=\u001b[32m10\u001b[39m)\n\u001b[32m---> \u001b[39m\u001b[32m12\u001b[39m result = solver.run(SLOW_ESTIM)\n\u001b[32m     13\u001b[39m SLOW_ESTIM = result.params\n",
      "\u001b[32m~/anaconda3/envs/jax_env/lib/python3.12/site-packages/jaxopt/_src/base.py\u001b[39m in \u001b[36m?\u001b[39m\u001b[34m(self, init_params, *args, **kwargs)\u001b[39m\n\u001b[32m    354\u001b[39m           solve=self.implicit_diff_solve,\n\u001b[32m    355\u001b[39m           reference_signature=reference_signature)\n\u001b[32m    356\u001b[39m       run = decorator(run)\n\u001b[32m    357\u001b[39m \n\u001b[32m--> \u001b[39m\u001b[32m358\u001b[39m     \u001b[38;5;28;01mreturn\u001b[39;00m run(init_params, *args, **kwargs)\n",
      "\u001b[32m~/anaconda3/envs/jax_env/lib/python3.12/site-packages/jaxopt/_src/implicit_diff.py\u001b[39m in \u001b[36m?\u001b[39m\u001b[34m(*args, **kwargs)\u001b[39m\n\u001b[32m    248\u001b[39m   \u001b[38;5;28;01mdef\u001b[39;00m wrapped_solver_fun(*args, **kwargs):\n\u001b[32m    249\u001b[39m     args, kwargs = _signature_bind(solver_fun_signature, *args, **kwargs)\n\u001b[32m    250\u001b[39m     keys, vals = list(kwargs.keys()), list(kwargs.values())\n\u001b[32m--> \u001b[39m\u001b[32m251\u001b[39m     \u001b[38;5;28;01mreturn\u001b[39;00m make_custom_vjp_solver_fun(solver_fun, keys)(*args, *vals)\n",
      "    \u001b[31m[... skipping hidden 9 frame]\u001b[39m\n",
      "\u001b[32m~/anaconda3/envs/jax_env/lib/python3.12/site-packages/jaxopt/_src/implicit_diff.py\u001b[39m in \u001b[36m?\u001b[39m\u001b[34m(*flat_args)\u001b[39m\n\u001b[32m    204\u001b[39m     @jax.custom_vjp\n\u001b[32m    205\u001b[39m     \u001b[38;5;28;01mdef\u001b[39;00m solver_fun_flat(*flat_args):\n\u001b[32m    206\u001b[39m       args, kwargs = _extract_kwargs(kwarg_keys, flat_args)\n\u001b[32m--> \u001b[39m\u001b[32m207\u001b[39m       \u001b[38;5;28;01mreturn\u001b[39;00m solver_fun(*args, **kwargs)\n",
      "\u001b[32m~/anaconda3/envs/jax_env/lib/python3.12/site-packages/jaxopt/_src/base.py\u001b[39m in \u001b[36m?\u001b[39m\u001b[34m(self, init_params, *args, **kwargs)\u001b[39m\n\u001b[32m    296\u001b[39m   def _run(self,\n\u001b[32m    297\u001b[39m            init_params: Any,\n\u001b[32m    298\u001b[39m            *args,\n\u001b[32m    299\u001b[39m            **kwargs) -> OptStep:\n\u001b[32m--> \u001b[39m\u001b[32m300\u001b[39m     state = self.init_state(init_params, *args, **kwargs)\n\u001b[32m    301\u001b[39m \n\u001b[32m    302\u001b[39m     \u001b[38;5;66;03m# We unroll the very first iteration. This allows `init_val` and `body_fun`\u001b[39;00m\n\u001b[32m    303\u001b[39m     \u001b[38;5;66;03m# below to have the same output type, which is a requirement of\u001b[39;00m\n",
      "\u001b[32m~/anaconda3/envs/jax_env/lib/python3.12/site-packages/jaxopt/_src/lbfgs.py\u001b[39m in \u001b[36m?\u001b[39m\u001b[34m(self, init_params, *args, **kwargs)\u001b[39m\n\u001b[32m    280\u001b[39m           gamma=jnp.asarray(\u001b[32m1.0\u001b[39m, dtype=realdtype),\n\u001b[32m    281\u001b[39m           iter_num=jnp.asarray(\u001b[32m0\u001b[39m),\n\u001b[32m    282\u001b[39m           stepsize=jnp.asarray(self.max_stepsize, dtype=realdtype),\n\u001b[32m    283\u001b[39m       )\n\u001b[32m--> \u001b[39m\u001b[32m284\u001b[39m     (value, aux), grad = self._value_and_grad_with_aux(init_params, *args, **kwargs)\n\u001b[32m    285\u001b[39m     return LbfgsState(value=value,\n\u001b[32m    286\u001b[39m                       grad=grad,\n\u001b[32m    287\u001b[39m                       error=jnp.asarray(jnp.inf, dtype=realdtype),\n",
      "    \u001b[31m[... skipping hidden 16 frame]\u001b[39m\n",
      "\u001b[32m~/anaconda3/envs/jax_env/lib/python3.12/site-packages/jaxopt/_src/base.py\u001b[39m in \u001b[36m?\u001b[39m\u001b[34m(*a, **kw)\u001b[39m\n\u001b[32m     69\u001b[39m   \u001b[38;5;28;01mdef\u001b[39;00m fun_with_aux(*a, **kw):\n\u001b[32m---> \u001b[39m\u001b[32m70\u001b[39m     \u001b[38;5;28;01mreturn\u001b[39;00m fun(*a, **kw), \u001b[38;5;28;01mNone\u001b[39;00m\n",
      "\u001b[32m/var/folders/83/p8lj8nl13tz2lx0yzbt4wmp80000gn/T/ipykernel_18584/526871569.py\u001b[39m in \u001b[36m?\u001b[39m\u001b[34m(slow)\u001b[39m\n\u001b[32m----> \u001b[39m\u001b[32m8\u001b[39m objective = \u001b[38;5;28;01mlambda\u001b[39;00m slow: fwi_loss_function(slow, xi, yi, SRC, f, a0, L_PML, REC_DATA, ind, elemInclude, tx_include, num_elements)\n",
      "\u001b[32m~/Library/CloudStorage/Box-Box/GitHub/WaveformInversionUST/Lecture19_Fwi/fwi_loss_function.py\u001b[39m in \u001b[36m?\u001b[39m\u001b[34m(slow, xi, yi, SRC, f, a0, L_PML, REC_DATA, ind, elemInclude, tx_include, numElements)\u001b[39m\n\u001b[32m     24\u001b[39m         Scalar loss value\n\u001b[32m     25\u001b[39m     \"\"\"\n\u001b[32m     26\u001b[39m     VEL_ESTIM = \u001b[32m1.0\u001b[39m / slow\n\u001b[32m     27\u001b[39m     \u001b[38;5;66;03m# (1A) Forward wavefield\u001b[39;00m\n\u001b[32m---> \u001b[39m\u001b[32m28\u001b[39m     WVFIELD = solve_helmholtz(xi, yi, VEL_ESTIM, SRC, f, a0, L_PML, adjoint=\u001b[38;5;28;01mFalse\u001b[39;00m)\n\u001b[32m     29\u001b[39m \n\u001b[32m     30\u001b[39m     \u001b[38;5;66;03m# (1B) Estimate sources (per tx)\u001b[39;00m\n\u001b[32m     31\u001b[39m     REC_SIM = jnp.zeros((tx_include.size, numElements))\n",
      "\u001b[32m~/Library/CloudStorage/Box-Box/GitHub/WaveformInversionUST/Lecture19_Fwi/solve_helmholtz.py\u001b[39m in \u001b[36m?\u001b[39m\u001b[34m(x, y, vel, src, f, a0, L_PML, adjoint)\u001b[39m\n\u001b[32m     47\u001b[39m \n\u001b[32m     48\u001b[39m     \u001b[38;5;28;01mdef\u001b[39;00m lin_idx(x_idx, y_idx):\n\u001b[32m     49\u001b[39m         \u001b[38;5;28;01mreturn\u001b[39;00m y_idx + Ny * x_idx\n\u001b[32m     50\u001b[39m \n\u001b[32m---> \u001b[39m\u001b[32m51\u001b[39m     b, d, e = stencil_opt_params(jnp.min(vel), jnp.max(vel), f, h, g)\n\u001b[32m     52\u001b[39m \n\u001b[32m     53\u001b[39m     rows, cols, vals = [], [], []\n\u001b[32m     54\u001b[39m \n",
      "\u001b[32m~/Library/CloudStorage/Box-Box/GitHub/WaveformInversionUST/Lecture19_Fwi/solve_helmholtz.py\u001b[39m in \u001b[36m?\u001b[39m\u001b[34m(vmin, vmax, f, h, g)\u001b[39m\n\u001b[32m    130\u001b[39m     n = jnp.arange(\u001b[32m1\u001b[39m, r + \u001b[32m1\u001b[39m)\n\u001b[32m    131\u001b[39m     theta = (m - \u001b[32m1\u001b[39m) * jnp.pi / (\u001b[32m4\u001b[39m * (l - \u001b[32m1\u001b[39m))\n\u001b[32m    132\u001b[39m     G = \u001b[32m1\u001b[39m / (\u001b[32m1\u001b[39m / Gmax + (n[:, \u001b[38;5;28;01mNone\u001b[39;00m] - \u001b[32m1\u001b[39m) / (r - \u001b[32m1\u001b[39m) * (\u001b[32m1\u001b[39m / Gmin - \u001b[32m1\u001b[39m / Gmax))\n\u001b[32m    133\u001b[39m \n\u001b[32m--> \u001b[39m\u001b[32m134\u001b[39m     TH, GG = jnp.meshgrid(theta, G)\n\u001b[32m    135\u001b[39m \n\u001b[32m    136\u001b[39m     P = jnp.cos(g * \u001b[32m2\u001b[39m * jnp.pi * jnp.cos(TH) / GG)\n\u001b[32m    137\u001b[39m     Q = jnp.cos(\u001b[32m2\u001b[39m * jnp.pi * jnp.sin(TH) / GG)\n",
      "\u001b[32m~/anaconda3/envs/jax_env/lib/python3.12/site-packages/jax/_src/numpy/lax_numpy.py\u001b[39m in \u001b[36m?\u001b[39m\u001b[34m(copy, sparse, indexing, *xi)\u001b[39m\n\u001b[32m   6745\u001b[39m     \u001b[38;5;28;01mraise\u001b[39;00m ValueError(\u001b[33m\"jax.numpy.meshgrid only supports copy=True\"\u001b[39m)\n\u001b[32m   6746\u001b[39m   \u001b[38;5;28;01mif\u001b[39;00m indexing \u001b[38;5;28;01mnot\u001b[39;00m \u001b[38;5;28;01min\u001b[39;00m [\u001b[33m\"xy\"\u001b[39m, \u001b[33m\"ij\"\u001b[39m]:\n\u001b[32m   6747\u001b[39m     \u001b[38;5;28;01mraise\u001b[39;00m ValueError(f\"Valid values for indexing are 'xy' and 'ij', got {indexing}\")\n\u001b[32m   6748\u001b[39m   \u001b[38;5;28;01mif\u001b[39;00m any(a.ndim != \u001b[32m1\u001b[39m \u001b[38;5;28;01mfor\u001b[39;00m a \u001b[38;5;28;01min\u001b[39;00m args):\n\u001b[32m-> \u001b[39m\u001b[32m6749\u001b[39m     raise ValueError(\"Arguments to jax.numpy.meshgrid must be 1D, got shapes \"\n\u001b[32m   6750\u001b[39m                      f\"{[a.shape \u001b[38;5;28;01mfor\u001b[39;00m a \u001b[38;5;28;01min\u001b[39;00m args]}\")\n\u001b[32m   6751\u001b[39m   \u001b[38;5;28;01mif\u001b[39;00m indexing == \u001b[33m\"xy\"\u001b[39m \u001b[38;5;28;01mand\u001b[39;00m len(args) >= \u001b[32m2\u001b[39m:\n\u001b[32m   6752\u001b[39m     args[\u001b[32m0\u001b[39m], args[\u001b[32m1\u001b[39m] = args[\u001b[32m1\u001b[39m], args[\u001b[32m0\u001b[39m]\n",
      "\u001b[31mValueError\u001b[39m: Arguments to jax.numpy.meshgrid must be 1D, got shapes [(100,), (10, 1)]"
     ]
    }
   ],
   "source": [
    "from jaxopt import LBFGS\n",
    "\n",
    "# Initial guess for slowness\n",
    "c_init = 1480.0  # m/s\n",
    "SLOW_ESTIM = jnp.ones((Nyi, Nxi)) / c_init\n",
    "\n",
    "# Wrap loss function to pass extra arguments\n",
    "objective = lambda slow: fwi_loss_function(slow, xi, yi, SRC, f, a0, L_PML, REC_DATA, ind, elemInclude, tx_include, num_elements)\n",
    "\n",
    "# Initialize and run LBFGS solver\n",
    "solver = LBFGS(fun=objective, maxiter=10)\n",
    "result = solver.run(SLOW_ESTIM)\n",
    "SLOW_ESTIM = result.params\n"
   ]
  },
  {
   "cell_type": "code",
   "execution_count": null,
   "id": "3b3b49ba",
   "metadata": {},
   "outputs": [],
   "source": [
    "import matplotlib.pyplot as plt\n",
    "\n",
    "VEL_ESTIM = 1.0 / SLOW_ESTIM\n",
    "\n",
    "plt.figure(figsize=(10, 8))\n",
    "plt.subplot(1, 2, 1\n",
    "::contentReference[oaicite:10]{index=10}\n",
    " \n"
   ]
  }
 ],
 "metadata": {
  "kernelspec": {
   "display_name": "jax_env",
   "language": "python",
   "name": "python3"
  },
  "language_info": {
   "codemirror_mode": {
    "name": "ipython",
    "version": 3
   },
   "file_extension": ".py",
   "mimetype": "text/x-python",
   "name": "python",
   "nbconvert_exporter": "python",
   "pygments_lexer": "ipython3",
   "version": "3.12.0"
  }
 },
 "nbformat": 4,
 "nbformat_minor": 5
}

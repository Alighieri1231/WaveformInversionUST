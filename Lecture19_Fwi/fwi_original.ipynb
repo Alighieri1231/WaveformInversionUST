{
 "cells": [
  {
   "cell_type": "markdown",
   "id": "d0464298",
   "metadata": {},
   "source": [
    "# Final project - FWI \n",
    "## Team by:\n",
    "### Emilio Ochoa\n",
    "### Naomi Guevara\n",
    "### Liumei Ma"
   ]
  },
  {
   "cell_type": "markdown",
   "id": "717ce0fb",
   "metadata": {},
   "source": [
    "Hello! I am putting the MATLAB code in parallel with the python code. Feel free to optimize the best as you can to obtain the final .py file"
   ]
  },
  {
   "cell_type": "markdown",
   "id": "6a034063",
   "metadata": {},
   "source": [
    "``load('RecordedData.mat', 'x', 'y', 'C', 'x_circ', 'y_circ', 'f', 'REC_DATA');``"
   ]
  },
  {
   "cell_type": "code",
   "execution_count": 1,
   "id": "e0617ae5",
   "metadata": {},
   "outputs": [],
   "source": [
    "from scipy.io import loadmat\n",
    "import jax\n",
    "import jax.numpy as jnp\n",
    "from fwi_loss_function import fwi_loss_function\n",
    "from solve_helmholtz import solve_helmholtz\n",
    "\n",
    "\n",
    "data = loadmat('RecordedData1.mat')\n",
    "x = data['x'].squeeze()\n",
    "y = data['y'].squeeze()\n",
    "C = data['C']\n",
    "x_circ = data['x_circ'].squeeze()\n",
    "y_circ = data['y_circ'].squeeze()\n",
    "f = data['f'].item()\n",
    "REC_DATA = data['REC_DATA']\n"
   ]
  },
  {
   "cell_type": "markdown",
   "id": "c4b54fb8",
   "metadata": {},
   "source": [
    "``dwnsmp = 1;\n",
    "tx_include = 1:dwnsmp:numElements;\n",
    "REC_DATA = REC_DATA(tx_include,:);`` "
   ]
  },
  {
   "cell_type": "code",
   "execution_count": 2,
   "id": "19309c7d",
   "metadata": {},
   "outputs": [],
   "source": [
    "dwnsmp = 1\n",
    "num_elements = x_circ.size\n",
    "a0 = 10\n",
    "L_PML = 9.0e-3\n",
    "tx_include = jnp.arange(0, num_elements, dwnsmp)\n",
    "REC_DATA = REC_DATA[tx_include, :]\n"
   ]
  },
  {
   "cell_type": "markdown",
   "id": "d3b7f86e",
   "metadata": {},
   "source": [
    "``elemInclude = true(numElements, numElements);\n",
    "for tx_element = 1:numElements \n",
    "    elemLeftRightExclCurrent = elemLeftRightExcl + tx_element;\n",
    "    elemLeftRightExclCurrent(elemLeftRightExclCurrent<1) = numElements + ...\n",
    "         elemLeftRightExclCurrent(elemLeftRightExclCurrent<1);\n",
    "    elemLeftRightExclCurrent(elemLeftRightExclCurrent>numElements) = ...\n",
    "        elemLeftRightExclCurrent(elemLeftRightExclCurrent>numElements) - numElements;\n",
    "    elemInclude(tx_element,elemLeftRightExclCurrent) = false;\n",
    "end\n",
    "``"
   ]
  },
  {
   "cell_type": "code",
   "execution_count": 3,
   "id": "14dafa06",
   "metadata": {},
   "outputs": [],
   "source": [
    "numElemLeftRightExcl = 31\n",
    "elemLeftRightExcl = jnp.arange(-numElemLeftRightExcl, numElemLeftRightExcl + 1)\n",
    "elemInclude = jnp.ones((num_elements, num_elements), dtype=bool)\n",
    "\n",
    "for tx_element in range(num_elements):\n",
    "    elemLeftRightExclCurrent = (elemLeftRightExcl + tx_element) % num_elements\n",
    "    elemInclude = elemInclude.at[tx_element, elemLeftRightExclCurrent].set(False)\n"
   ]
  },
  {
   "cell_type": "markdown",
   "id": "9ce7360e",
   "metadata": {},
   "source": [
    "``dxi = 0.8e-3; xmax = 120e-3;\n",
    "xi = -xmax:dxi:xmax; yi = xi;\n",
    "[Xi, Yi] = meshgrid(xi, yi);\n",
    "``"
   ]
  },
  {
   "cell_type": "code",
   "execution_count": 4,
   "id": "65205ee6",
   "metadata": {},
   "outputs": [],
   "source": [
    "dxi = 0.8e-3\n",
    "xmax = 120e-3\n",
    "xi = jnp.arange(-xmax, xmax + dxi, dxi)\n",
    "yi = xi\n",
    "Xi, Yi = jnp.meshgrid(xi, yi, indexing='xy')\n"
   ]
  },
  {
   "cell_type": "markdown",
   "id": "41f464e8",
   "metadata": {},
   "source": [
    "``x_idx = dsearchn(xi(:), x_circ(:));\n",
    "y_idx = dsearchn(yi(:), y_circ(:));\n",
    "ind = sub2ind([Nyi, Nxi], y_idx, x_idx);\n",
    "``\n",
    "\n",
    "This part maybe can be optimized?"
   ]
  },
  {
   "cell_type": "code",
   "execution_count": 5,
   "id": "b0cdf07a",
   "metadata": {},
   "outputs": [],
   "source": [
    "from scipy.spatial import cKDTree\n",
    "\n",
    "xi_tree = cKDTree(xi[:, None])\n",
    "x_idx = xi_tree.query(x_circ[:, None])[1]\n",
    "\n",
    "yi_tree = cKDTree(yi[:, None])\n",
    "y_idx = yi_tree.query(y_circ[:, None])[1]\n",
    "\n",
    "Nyi, Nxi = yi.size, xi.size\n",
    "ind = y_idx * Nxi + x_idx\n"
   ]
  },
  {
   "cell_type": "code",
   "execution_count": 6,
   "id": "e99d64c1",
   "metadata": {},
   "outputs": [
    {
     "name": "stdout",
     "output_type": "stream",
     "text": [
      "SRC shape: (301, 301, 256)\n"
     ]
    }
   ],
   "source": [
    "SRC = jnp.zeros((Nyi, Nxi, tx_include.size))\n",
    "for i, tx_elmt_idx in enumerate(tx_include):\n",
    "    x_idx_src = x_idx[tx_elmt_idx]\n",
    "    y_idx_src = y_idx[tx_elmt_idx]\n",
    "    SRC = SRC.at[y_idx_src, x_idx_src, i].set(1)\n",
    "\n",
    "print('SRC shape:', SRC.shape)\n"
   ]
  },
  {
   "cell_type": "code",
   "execution_count": 7,
   "id": "747fe619",
   "metadata": {},
   "outputs": [
    {
     "name": "stdout",
     "output_type": "stream",
     "text": [
      "rows, cols, vals 805809 805809 805809\n",
      "301 301\n",
      "stack shape (805809, 2)\n"
     ]
    },
    {
     "ename": "TypeError",
     "evalue": "cannot reshape array of shape (90601, 256) (size 23193856) into shape (301, 301) (size 90601)",
     "output_type": "error",
     "traceback": [
      "\u001b[31m---------------------------------------------------------------------------\u001b[39m",
      "\u001b[31mTypeError\u001b[39m                                 Traceback (most recent call last)",
      "\u001b[36mCell\u001b[39m\u001b[36m \u001b[39m\u001b[32mIn[7]\u001b[39m\u001b[32m, line 12\u001b[39m\n\u001b[32m     10\u001b[39m \u001b[38;5;66;03m# Initialize and run LBFGS solver\u001b[39;00m\n\u001b[32m     11\u001b[39m solver = LBFGS(fun=objective, maxiter=\u001b[32m1\u001b[39m)\n\u001b[32m---> \u001b[39m\u001b[32m12\u001b[39m result = \u001b[43msolver\u001b[49m\u001b[43m.\u001b[49m\u001b[43mrun\u001b[49m\u001b[43m(\u001b[49m\u001b[43mSLOW_ESTIM\u001b[49m\u001b[43m)\u001b[49m\n\u001b[32m     13\u001b[39m SLOW_ESTIM = result.params\n",
      "\u001b[36mFile \u001b[39m\u001b[32m~/anaconda3/envs/jax_env/lib/python3.12/site-packages/jaxopt/_src/base.py:358\u001b[39m, in \u001b[36mIterativeSolver.run\u001b[39m\u001b[34m(self, init_params, *args, **kwargs)\u001b[39m\n\u001b[32m    351\u001b[39m   decorator = idf.custom_root(\n\u001b[32m    352\u001b[39m       \u001b[38;5;28mself\u001b[39m.optimality_fun,\n\u001b[32m    353\u001b[39m       has_aux=\u001b[38;5;28;01mTrue\u001b[39;00m,\n\u001b[32m    354\u001b[39m       solve=\u001b[38;5;28mself\u001b[39m.implicit_diff_solve,\n\u001b[32m    355\u001b[39m       reference_signature=reference_signature)\n\u001b[32m    356\u001b[39m   run = decorator(run)\n\u001b[32m--> \u001b[39m\u001b[32m358\u001b[39m \u001b[38;5;28;01mreturn\u001b[39;00m \u001b[43mrun\u001b[49m\u001b[43m(\u001b[49m\u001b[43minit_params\u001b[49m\u001b[43m,\u001b[49m\u001b[43m \u001b[49m\u001b[43m*\u001b[49m\u001b[43margs\u001b[49m\u001b[43m,\u001b[49m\u001b[43m \u001b[49m\u001b[43m*\u001b[49m\u001b[43m*\u001b[49m\u001b[43mkwargs\u001b[49m\u001b[43m)\u001b[49m\n",
      "\u001b[36mFile \u001b[39m\u001b[32m~/anaconda3/envs/jax_env/lib/python3.12/site-packages/jaxopt/_src/implicit_diff.py:251\u001b[39m, in \u001b[36m_custom_root.<locals>.wrapped_solver_fun\u001b[39m\u001b[34m(*args, **kwargs)\u001b[39m\n\u001b[32m    249\u001b[39m args, kwargs = _signature_bind(solver_fun_signature, *args, **kwargs)\n\u001b[32m    250\u001b[39m keys, vals = \u001b[38;5;28mlist\u001b[39m(kwargs.keys()), \u001b[38;5;28mlist\u001b[39m(kwargs.values())\n\u001b[32m--> \u001b[39m\u001b[32m251\u001b[39m \u001b[38;5;28;01mreturn\u001b[39;00m \u001b[43mmake_custom_vjp_solver_fun\u001b[49m\u001b[43m(\u001b[49m\u001b[43msolver_fun\u001b[49m\u001b[43m,\u001b[49m\u001b[43m \u001b[49m\u001b[43mkeys\u001b[49m\u001b[43m)\u001b[49m\u001b[43m(\u001b[49m\u001b[43m*\u001b[49m\u001b[43margs\u001b[49m\u001b[43m,\u001b[49m\u001b[43m \u001b[49m\u001b[43m*\u001b[49m\u001b[43mvals\u001b[49m\u001b[43m)\u001b[49m\n",
      "    \u001b[31m[... skipping hidden 9 frame]\u001b[39m\n",
      "\u001b[36mFile \u001b[39m\u001b[32m~/anaconda3/envs/jax_env/lib/python3.12/site-packages/jaxopt/_src/implicit_diff.py:207\u001b[39m, in \u001b[36m_custom_root.<locals>.make_custom_vjp_solver_fun.<locals>.solver_fun_flat\u001b[39m\u001b[34m(*flat_args)\u001b[39m\n\u001b[32m    204\u001b[39m \u001b[38;5;129m@jax\u001b[39m.custom_vjp\n\u001b[32m    205\u001b[39m \u001b[38;5;28;01mdef\u001b[39;00m\u001b[38;5;250m \u001b[39m\u001b[34msolver_fun_flat\u001b[39m(*flat_args):\n\u001b[32m    206\u001b[39m   args, kwargs = _extract_kwargs(kwarg_keys, flat_args)\n\u001b[32m--> \u001b[39m\u001b[32m207\u001b[39m   \u001b[38;5;28;01mreturn\u001b[39;00m \u001b[43msolver_fun\u001b[49m\u001b[43m(\u001b[49m\u001b[43m*\u001b[49m\u001b[43margs\u001b[49m\u001b[43m,\u001b[49m\u001b[43m \u001b[49m\u001b[43m*\u001b[49m\u001b[43m*\u001b[49m\u001b[43mkwargs\u001b[49m\u001b[43m)\u001b[49m\n",
      "\u001b[36mFile \u001b[39m\u001b[32m~/anaconda3/envs/jax_env/lib/python3.12/site-packages/jaxopt/_src/base.py:300\u001b[39m, in \u001b[36mIterativeSolver._run\u001b[39m\u001b[34m(self, init_params, *args, **kwargs)\u001b[39m\n\u001b[32m    296\u001b[39m \u001b[38;5;28;01mdef\u001b[39;00m\u001b[38;5;250m \u001b[39m\u001b[34m_run\u001b[39m(\u001b[38;5;28mself\u001b[39m,\n\u001b[32m    297\u001b[39m          init_params: Any,\n\u001b[32m    298\u001b[39m          *args,\n\u001b[32m    299\u001b[39m          **kwargs) -> OptStep:\n\u001b[32m--> \u001b[39m\u001b[32m300\u001b[39m   state = \u001b[38;5;28;43mself\u001b[39;49m\u001b[43m.\u001b[49m\u001b[43minit_state\u001b[49m\u001b[43m(\u001b[49m\u001b[43minit_params\u001b[49m\u001b[43m,\u001b[49m\u001b[43m \u001b[49m\u001b[43m*\u001b[49m\u001b[43margs\u001b[49m\u001b[43m,\u001b[49m\u001b[43m \u001b[49m\u001b[43m*\u001b[49m\u001b[43m*\u001b[49m\u001b[43mkwargs\u001b[49m\u001b[43m)\u001b[49m\n\u001b[32m    302\u001b[39m   \u001b[38;5;66;03m# We unroll the very first iteration. This allows `init_val` and `body_fun`\u001b[39;00m\n\u001b[32m    303\u001b[39m   \u001b[38;5;66;03m# below to have the same output type, which is a requirement of\u001b[39;00m\n\u001b[32m    304\u001b[39m   \u001b[38;5;66;03m# lax.while_loop and lax.scan.\u001b[39;00m\n\u001b[32m   (...)\u001b[39m\u001b[32m    315\u001b[39m   \u001b[38;5;66;03m# of a `lax.cond` for now in order to avoid staging the initial\u001b[39;00m\n\u001b[32m    316\u001b[39m   \u001b[38;5;66;03m# update and the run loop. They might not be staging compatible.\u001b[39;00m\n\u001b[32m    318\u001b[39m   zero_step = \u001b[38;5;28mself\u001b[39m._make_zero_step(init_params, state)\n",
      "\u001b[36mFile \u001b[39m\u001b[32m~/anaconda3/envs/jax_env/lib/python3.12/site-packages/jaxopt/_src/lbfgs.py:284\u001b[39m, in \u001b[36mLBFGS.init_state\u001b[39m\u001b[34m(self, init_params, *args, **kwargs)\u001b[39m\n\u001b[32m    275\u001b[39m   realdtype = get_real_dtype(tree_single_dtype(init_params))\n\u001b[32m    276\u001b[39m   state_kwargs = \u001b[38;5;28mdict\u001b[39m(\n\u001b[32m    277\u001b[39m       s_history=init_history(init_params, \u001b[38;5;28mself\u001b[39m.history_size),\n\u001b[32m    278\u001b[39m       y_history=init_history(init_params, \u001b[38;5;28mself\u001b[39m.history_size),\n\u001b[32m   (...)\u001b[39m\u001b[32m    282\u001b[39m       stepsize=jnp.asarray(\u001b[38;5;28mself\u001b[39m.max_stepsize, dtype=realdtype),\n\u001b[32m    283\u001b[39m   )\n\u001b[32m--> \u001b[39m\u001b[32m284\u001b[39m (value, aux), grad = \u001b[38;5;28;43mself\u001b[39;49m\u001b[43m.\u001b[49m\u001b[43m_value_and_grad_with_aux\u001b[49m\u001b[43m(\u001b[49m\u001b[43minit_params\u001b[49m\u001b[43m,\u001b[49m\u001b[43m \u001b[49m\u001b[43m*\u001b[49m\u001b[43margs\u001b[49m\u001b[43m,\u001b[49m\u001b[43m \u001b[49m\u001b[43m*\u001b[49m\u001b[43m*\u001b[49m\u001b[43mkwargs\u001b[49m\u001b[43m)\u001b[49m\n\u001b[32m    285\u001b[39m \u001b[38;5;28;01mreturn\u001b[39;00m LbfgsState(value=value,\n\u001b[32m    286\u001b[39m                   grad=grad,\n\u001b[32m    287\u001b[39m                   error=jnp.asarray(jnp.inf, dtype=realdtype),\n\u001b[32m   (...)\u001b[39m\u001b[32m    292\u001b[39m                   num_fun_eval=jnp.array(\u001b[32m1\u001b[39m, base.NUM_EVAL_DTYPE),\n\u001b[32m    293\u001b[39m                   num_linesearch_iter=jnp.array(\u001b[32m0\u001b[39m, base.NUM_EVAL_DTYPE))\n",
      "    \u001b[31m[... skipping hidden 16 frame]\u001b[39m\n",
      "\u001b[36mFile \u001b[39m\u001b[32m~/anaconda3/envs/jax_env/lib/python3.12/site-packages/jaxopt/_src/base.py:70\u001b[39m, in \u001b[36m_add_aux_to_fun.<locals>.fun_with_aux\u001b[39m\u001b[34m(*a, **kw)\u001b[39m\n\u001b[32m     69\u001b[39m \u001b[38;5;28;01mdef\u001b[39;00m\u001b[38;5;250m \u001b[39m\u001b[34mfun_with_aux\u001b[39m(*a, **kw):\n\u001b[32m---> \u001b[39m\u001b[32m70\u001b[39m   \u001b[38;5;28;01mreturn\u001b[39;00m \u001b[43mfun\u001b[49m\u001b[43m(\u001b[49m\u001b[43m*\u001b[49m\u001b[43ma\u001b[49m\u001b[43m,\u001b[49m\u001b[43m \u001b[49m\u001b[43m*\u001b[49m\u001b[43m*\u001b[49m\u001b[43mkw\u001b[49m\u001b[43m)\u001b[49m, \u001b[38;5;28;01mNone\u001b[39;00m\n",
      "\u001b[36mCell\u001b[39m\u001b[36m \u001b[39m\u001b[32mIn[7]\u001b[39m\u001b[32m, line 8\u001b[39m, in \u001b[36m<lambda>\u001b[39m\u001b[34m(slow)\u001b[39m\n\u001b[32m      5\u001b[39m SLOW_ESTIM = jnp.ones((Nyi, Nxi)) / c_init\n\u001b[32m      7\u001b[39m \u001b[38;5;66;03m# Wrap loss function to pass extra arguments\u001b[39;00m\n\u001b[32m----> \u001b[39m\u001b[32m8\u001b[39m objective = \u001b[38;5;28;01mlambda\u001b[39;00m slow: \u001b[43mfwi_loss_function\u001b[49m\u001b[43m(\u001b[49m\u001b[43mslow\u001b[49m\u001b[43m,\u001b[49m\u001b[43m \u001b[49m\u001b[43mxi\u001b[49m\u001b[43m,\u001b[49m\u001b[43m \u001b[49m\u001b[43myi\u001b[49m\u001b[43m,\u001b[49m\u001b[43m \u001b[49m\u001b[43mSRC\u001b[49m\u001b[43m,\u001b[49m\u001b[43m \u001b[49m\u001b[43mf\u001b[49m\u001b[43m,\u001b[49m\u001b[43m \u001b[49m\u001b[43ma0\u001b[49m\u001b[43m,\u001b[49m\u001b[43m \u001b[49m\u001b[43mL_PML\u001b[49m\u001b[43m,\u001b[49m\u001b[43m \u001b[49m\u001b[43mREC_DATA\u001b[49m\u001b[43m,\u001b[49m\u001b[43m \u001b[49m\u001b[43mind\u001b[49m\u001b[43m,\u001b[49m\u001b[43m \u001b[49m\u001b[43melemInclude\u001b[49m\u001b[43m,\u001b[49m\u001b[43m \u001b[49m\u001b[43mtx_include\u001b[49m\u001b[43m,\u001b[49m\u001b[43m \u001b[49m\u001b[43mnum_elements\u001b[49m\u001b[43m)\u001b[49m\n\u001b[32m     10\u001b[39m \u001b[38;5;66;03m# Initialize and run LBFGS solver\u001b[39;00m\n\u001b[32m     11\u001b[39m solver = LBFGS(fun=objective, maxiter=\u001b[32m1\u001b[39m)\n",
      "\u001b[36mFile \u001b[39m\u001b[32m~/Library/CloudStorage/Box-Box/GitHub/WaveformInversionUST/Lecture19_Fwi/fwi_loss_function.py:28\u001b[39m, in \u001b[36mfwi_loss_function\u001b[39m\u001b[34m(slow, xi, yi, SRC, f, a0, L_PML, REC_DATA, ind, elemInclude, tx_include, numElements)\u001b[39m\n\u001b[32m     26\u001b[39m VEL_ESTIM = \u001b[32m1.0\u001b[39m / slow\n\u001b[32m     27\u001b[39m \u001b[38;5;66;03m# (1A) Forward wavefield\u001b[39;00m\n\u001b[32m---> \u001b[39m\u001b[32m28\u001b[39m WVFIELD = \u001b[43msolve_helmholtz\u001b[49m\u001b[43m(\u001b[49m\u001b[43mxi\u001b[49m\u001b[43m,\u001b[49m\u001b[43m \u001b[49m\u001b[43myi\u001b[49m\u001b[43m,\u001b[49m\u001b[43m \u001b[49m\u001b[43mVEL_ESTIM\u001b[49m\u001b[43m,\u001b[49m\u001b[43m \u001b[49m\u001b[43mSRC\u001b[49m\u001b[43m,\u001b[49m\u001b[43m \u001b[49m\u001b[43mf\u001b[49m\u001b[43m,\u001b[49m\u001b[43m \u001b[49m\u001b[43ma0\u001b[49m\u001b[43m,\u001b[49m\u001b[43m \u001b[49m\u001b[43mL_PML\u001b[49m\u001b[43m,\u001b[49m\u001b[43m \u001b[49m\u001b[43madjoint\u001b[49m\u001b[43m=\u001b[49m\u001b[38;5;28;43;01mFalse\u001b[39;49;00m\u001b[43m)\u001b[49m\n\u001b[32m     30\u001b[39m \u001b[38;5;66;03m# (1B) Estimate sources (per tx)\u001b[39;00m\n\u001b[32m     31\u001b[39m REC_SIM = jnp.zeros((tx_include.size, numElements))\n",
      "\u001b[36mFile \u001b[39m\u001b[32m~/Library/CloudStorage/Box-Box/GitHub/WaveformInversionUST/Lecture19_Fwi/solve_helmholtz.py:80\u001b[39m, in \u001b[36msolve_helmholtz\u001b[39m\u001b[34m(x, y, vel, src, f, a0, L_PML, adjoint)\u001b[39m\n\u001b[32m     75\u001b[39m \u001b[38;5;66;03m# sol = spsolve(data, indices, indptr, rhs)\u001b[39;00m\n\u001b[32m     76\u001b[39m sol = jnp.stack(\n\u001b[32m     77\u001b[39m     [spsolve(data, indices, indptr, rhs[:, i]) \u001b[38;5;28;01mfor\u001b[39;00m i \u001b[38;5;129;01min\u001b[39;00m \u001b[38;5;28mrange\u001b[39m(rhs.shape[\u001b[32m1\u001b[39m])], axis=\u001b[32m1\u001b[39m\n\u001b[32m     78\u001b[39m )\n\u001b[32m---> \u001b[39m\u001b[32m80\u001b[39m \u001b[38;5;28;01mreturn\u001b[39;00m \u001b[43msol\u001b[49m\u001b[43m.\u001b[49m\u001b[43mreshape\u001b[49m\u001b[43m(\u001b[49m\u001b[43mNy\u001b[49m\u001b[43m,\u001b[49m\u001b[43m \u001b[49m\u001b[43mNx\u001b[49m\u001b[43m)\u001b[49m\n",
      "    \u001b[31m[... skipping hidden 2 frame]\u001b[39m\n",
      "\u001b[36mFile \u001b[39m\u001b[32m~/anaconda3/envs/jax_env/lib/python3.12/site-packages/jax/_src/numpy/array_methods.py:470\u001b[39m, in \u001b[36m_compute_newshape\u001b[39m\u001b[34m(arr, newshape)\u001b[39m\n\u001b[32m    467\u001b[39m \u001b[38;5;28;01melse\u001b[39;00m:\n\u001b[32m    468\u001b[39m   \u001b[38;5;28;01mif\u001b[39;00m (\u001b[38;5;28mall\u001b[39m(\u001b[38;5;28misinstance\u001b[39m(d, \u001b[38;5;28mint\u001b[39m) \u001b[38;5;28;01mfor\u001b[39;00m d \u001b[38;5;129;01min\u001b[39;00m (*arr.shape, *newshape)) \u001b[38;5;129;01mand\u001b[39;00m\n\u001b[32m    469\u001b[39m       arr.size != math.prod(newshape)):\n\u001b[32m--> \u001b[39m\u001b[32m470\u001b[39m     \u001b[38;5;28;01mraise\u001b[39;00m \u001b[38;5;167;01mTypeError\u001b[39;00m(\u001b[33mf\u001b[39m\u001b[33m\"\u001b[39m\u001b[33mcannot reshape array of shape \u001b[39m\u001b[38;5;132;01m{\u001b[39;00marr.shape\u001b[38;5;132;01m}\u001b[39;00m\u001b[33m (size \u001b[39m\u001b[38;5;132;01m{\u001b[39;00marr.size\u001b[38;5;132;01m}\u001b[39;00m\u001b[33m) \u001b[39m\u001b[33m\"\u001b[39m\n\u001b[32m    471\u001b[39m                     \u001b[33mf\u001b[39m\u001b[33m\"\u001b[39m\u001b[33minto shape \u001b[39m\u001b[38;5;132;01m{\u001b[39;00morig_newshape\u001b[38;5;132;01m}\u001b[39;00m\u001b[33m (size \u001b[39m\u001b[38;5;132;01m{\u001b[39;00mmath.prod(newshape)\u001b[38;5;132;01m}\u001b[39;00m\u001b[33m)\u001b[39m\u001b[33m\"\u001b[39m)\n\u001b[32m    472\u001b[39m \u001b[38;5;28;01mreturn\u001b[39;00m \u001b[38;5;28mtuple\u001b[39m(-core.divide_shape_sizes(arr.shape, newshape)\n\u001b[32m    473\u001b[39m              \u001b[38;5;28;01mif\u001b[39;00m core.definitely_equal(d, -\u001b[32m1\u001b[39m) \u001b[38;5;28;01melse\u001b[39;00m d \u001b[38;5;28;01mfor\u001b[39;00m d \u001b[38;5;129;01min\u001b[39;00m newshape)\n",
      "\u001b[31mTypeError\u001b[39m: cannot reshape array of shape (90601, 256) (size 23193856) into shape (301, 301) (size 90601)"
     ]
    }
   ],
   "source": [
    "from jaxopt import LBFGS\n",
    "\n",
    "# Initial guess for slowness\n",
    "c_init = 1480.0  # m/s\n",
    "SLOW_ESTIM = jnp.ones((Nyi, Nxi)) / c_init\n",
    "\n",
    "# Wrap loss function to pass extra arguments\n",
    "objective = lambda slow: fwi_loss_function(slow, xi, yi, SRC, f, a0, L_PML, REC_DATA, ind, elemInclude, tx_include, num_elements)\n",
    "\n",
    "# Initialize and run LBFGS solver\n",
    "solver = LBFGS(fun=objective, maxiter=1)\n",
    "result = solver.run(SLOW_ESTIM)\n",
    "SLOW_ESTIM = result.params\n",
    "\n"
   ]
  },
  {
   "cell_type": "code",
   "execution_count": null,
   "id": "3b3b49ba",
   "metadata": {},
   "outputs": [
    {
     "ename": "",
     "evalue": "",
     "output_type": "error",
     "traceback": [
      "\u001b[1;31mnotebook controller is DISPOSED. \n",
      "\u001b[1;31mView Jupyter <a href='command:jupyter.viewOutput'>log</a> for further details."
     ]
    },
    {
     "ename": "",
     "evalue": "",
     "output_type": "error",
     "traceback": [
      "\u001b[1;31mnotebook controller is DISPOSED. \n",
      "\u001b[1;31mView Jupyter <a href='command:jupyter.viewOutput'>log</a> for further details."
     ]
    }
   ],
   "source": [
    "import matplotlib.pyplot as plt\n",
    "\n",
    "VEL_ESTIM = 1.0 / SLOW_ESTIM\n",
    "\n",
    "plt.subplot(1, 2, 1)\n",
    "plt.imshow(C, extent=[x.min(), x.max(), y.min(), y.max()], origin='lower', cmap='gray')\n",
    "plt.title(\"True Velocity\")\n",
    "plt.colorbar()\n",
    "\n",
    "plt.subplot(1, 2, 2)\n",
    "plt.imshow(VEL_ESTIM, extent=[xi.min(), xi.max(), yi.min(), yi.max()], origin='lower', cmap='gray')\n",
    "plt.title(\"Estimated Velocity\")\n",
    "plt.colorbar()\n",
    "\n",
    "plt.tight_layout()\n",
    "plt.show()\n"
   ]
  }
 ],
 "metadata": {
  "kernelspec": {
   "display_name": "jax_env",
   "language": "python",
   "name": "python3"
  },
  "language_info": {
   "codemirror_mode": {
    "name": "ipython",
    "version": 3
   },
   "file_extension": ".py",
   "mimetype": "text/x-python",
   "name": "python",
   "nbconvert_exporter": "python",
   "pygments_lexer": "ipython3",
   "version": "3.12.0"
  }
 },
 "nbformat": 4,
 "nbformat_minor": 5
}

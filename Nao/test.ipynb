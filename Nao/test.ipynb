{
 "cells": [
  {
   "cell_type": "code",
   "execution_count": 1,
   "id": "fa921f25",
   "metadata": {},
   "outputs": [
    {
     "name": "stdout",
     "output_type": "stream",
     "text": [
      "Original Dense Matrix:\n",
      "[[0 0 1 0]\n",
      " [0 0 0 0]\n",
      " [0 2 0 3]\n",
      " [0 0 0 4]]\n",
      "\n",
      "Sparse Matrix (BCOO) converted back to Dense:\n",
      "[[0 0 1 0]\n",
      " [0 0 0 0]\n",
      " [0 2 0 3]\n",
      " [0 0 0 4]]\n"
     ]
    }
   ],
   "source": [
    "import jax\n",
    "import jax.numpy as jnp\n",
    "from jax.experimental import sparse\n",
    "\n",
    "# Create a dense matrix as an example\n",
    "dense_matrix = jnp.array([\n",
    "    [0, 0, 1, 0],\n",
    "    [0, 0, 0, 0],\n",
    "    [0, 2, 0, 3],\n",
    "    [0, 0, 0, 4]\n",
    "])\n",
    "\n",
    "# Convert to BCOO format\n",
    "sparse_matrix = sparse.BCOO.fromdense(dense_matrix)\n",
    "\n",
    "# Convert back to dense format\n",
    "dense_from_sparse = sparse_matrix.todense()\n",
    "\n",
    "print(\"Original Dense Matrix:\")\n",
    "print(dense_matrix)\n",
    "\n",
    "print(\"\\nSparse Matrix (BCOO) converted back to Dense:\")\n",
    "print(dense_from_sparse)\n"
   ]
  },
  {
   "cell_type": "code",
   "execution_count": 2,
   "id": "f2bf0bea",
   "metadata": {},
   "outputs": [
    {
     "name": "stdout",
     "output_type": "stream",
     "text": [
      "Solution x = [0.22222224 0.11111104 1.4444445 ]\n"
     ]
    }
   ],
   "source": [
    "import jax.numpy as jnp\n",
    "from jax.experimental.sparse.linalg import spsolve\n",
    "\n",
    "# A = [[4, 1, 0],\n",
    "#      [1, 3, 1],\n",
    "#      [0, 1, 2]]\n",
    "# Represent A in CSR format:\n",
    "\n",
    "# data: non-zero values\n",
    "data = jnp.array([4, 1, 1, 3, 1, 1, 2], dtype=jnp.float32)\n",
    "# indices: column indices of non-zero values\n",
    "indices = jnp.array([0, 1, 0, 1, 2, 1, 2], dtype=jnp.int32)\n",
    "# indptr: row pointers (cumulative count of nonzeros per row)\n",
    "indptr = jnp.array([0, 2, 5, 7], dtype=jnp.int32)\n",
    "\n",
    "# right-hand side\n",
    "b = jnp.array([1.0, 2.0, 3.0], dtype=jnp.float32)\n",
    "\n",
    "# solve Ax = b\n",
    "x = spsolve(data, indices, indptr, b)\n",
    "\n",
    "# print result\n",
    "print(\"Solution x =\", x)"
   ]
  }
 ],
 "metadata": {
  "kernelspec": {
   "display_name": "inv_problems",
   "language": "python",
   "name": "python3"
  },
  "language_info": {
   "codemirror_mode": {
    "name": "ipython",
    "version": 3
   },
   "file_extension": ".py",
   "mimetype": "text/x-python",
   "name": "python",
   "nbconvert_exporter": "python",
   "pygments_lexer": "ipython3",
   "version": "3.12.9"
  }
 },
 "nbformat": 4,
 "nbformat_minor": 5
}
